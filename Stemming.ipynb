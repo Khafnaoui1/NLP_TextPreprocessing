{
 "cells": [
  {
   "cell_type": "code",
   "execution_count": 1,
   "id": "8804997c",
   "metadata": {},
   "outputs": [],
   "source": [
    "from nltk.stem import PorterStemmer"
   ]
  },
  {
   "cell_type": "code",
   "execution_count": 2,
   "id": "5295d538",
   "metadata": {},
   "outputs": [],
   "source": [
    "ps = PorterStemmer()"
   ]
  },
  {
   "cell_type": "code",
   "execution_count": 3,
   "id": "27cf4ba9",
   "metadata": {},
   "outputs": [],
   "source": [
    "connect_tokens = ['connecting', 'connected', 'connectivity', 'connect', 'connects']"
   ]
  },
  {
   "cell_type": "code",
   "execution_count": 4,
   "id": "3eec1d2d",
   "metadata": {},
   "outputs": [
    {
     "name": "stdout",
     "output_type": "stream",
     "text": [
      "connecting :  connect\n",
      "connected :  connect\n",
      "connectivity :  connect\n",
      "connect :  connect\n",
      "connects :  connect\n"
     ]
    }
   ],
   "source": [
    "for t in connect_tokens:\n",
    "    print(t, \": \", ps.stem(t))"
   ]
  },
  {
   "cell_type": "code",
   "execution_count": 5,
   "id": "dcfa7a29",
   "metadata": {},
   "outputs": [
    {
     "name": "stdout",
     "output_type": "stream",
     "text": [
      "learning :  learn\n",
      "learned :  learn\n",
      "learns :  learn\n",
      "learn :  learn\n",
      "learnt :  learnt\n",
      "learners :  learner\n",
      "learner :  learner\n"
     ]
    }
   ],
   "source": [
    "learn_tokens = ['learning', 'learned', 'learns', 'learn', 'learnt', 'learners', 'learner']\n",
    "for t in learn_tokens:\n",
    "    print(t, \": \", ps.stem(t))"
   ]
  },
  {
   "cell_type": "code",
   "execution_count": 6,
   "id": "4dc01b49",
   "metadata": {},
   "outputs": [
    {
     "name": "stdout",
     "output_type": "stream",
     "text": [
      "likes :  like\n",
      "liked :  like\n",
      "liking :  like\n",
      "like :  like\n",
      "likable :  likabl\n",
      "likeness :  like\n",
      "better :  better\n",
      "best :  best\n",
      "worse :  wors\n",
      "worst :  worst\n"
     ]
    }
   ],
   "source": [
    "like_tokens = ['likes', 'liked', 'liking', 'like', 'likable', 'likeness','better', 'best','worse', 'worst']\n",
    "for t in like_tokens:\n",
    "    print(t, \": \", ps.stem(t))"
   ]
  }
 ],
 "metadata": {
  "kernelspec": {
   "display_name": "Python 3",
   "language": "python",
   "name": "python3"
  },
  "language_info": {
   "codemirror_mode": {
    "name": "ipython",
    "version": 3
   },
   "file_extension": ".py",
   "mimetype": "text/x-python",
   "name": "python",
   "nbconvert_exporter": "python",
   "pygments_lexer": "ipython3",
   "version": "3.12.10"
  }
 },
 "nbformat": 4,
 "nbformat_minor": 5
}
